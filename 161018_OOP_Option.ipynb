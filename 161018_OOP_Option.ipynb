{
 "cells": [
  {
   "cell_type": "markdown",
   "metadata": {},
   "source": [
    "# 將OptionPricing改成OOP"
   ]
  },
  {
   "cell_type": "code",
<<<<<<< HEAD
   "execution_count": 1,
=======
   "execution_count": 81,
>>>>>>> origin/master
   "metadata": {
    "collapsed": false
   },
   "outputs": [],
   "source": [
    "class Option_Pricing:\n",
    "    def __init__(self, S, K, Sigma, r, T):\n",
    "        self.S = S \n",
    "        self.K = K \n",
    "        self.Sigma = Sigma\n",
    "        self.r = r\n",
    "        self.T = T\n",
    "    def D1(self):\n",
    "        from math import log, sqrt, exp\n",
    "        D1 = (log(self.S / self.K) + (self.r + 0.5 * (self.Sigma ** 2)) * self.T) / (self.Sigma * sqrt(self.T))\n",
    "        #print('D1: ' + str(D1))\n",
    "        return(D1)\n",
    "    def D2(self):\n",
    "        from math import log, sqrt, exp\n",
    "        from scipy import stats\n",
    "        D1 = (log(self.S / self.K) + (self.r + 0.5 * (self.Sigma ** 2)) * self.T) / (self.Sigma * sqrt(self.T))\n",
    "        D2 = D1 - self.Sigma * sqrt(self.T)\n",
    "        #print('D2: ' + str(D2))\n",
    "        return(D2)\n",
    "    def BSM(self, type = 1): #1是買權 0是賣權\n",
    "        from math import log, sqrt, exp\n",
    "        from scipy import stats\n",
    "        #D1 = (log(self.S / self.K) + (self.r + 0.5 * (self.Sigma ** 2)) * self.T) / (self.Sigma * sqrt(self.T))\n",
    "        #D2 = D1 - self.Sigma * sqrt(self.T)\n",
    "        if type == 1:\n",
    "            C0 = self.S  * stats.norm.cdf(self.D1(), 0, 1) - self.K * exp(-self.r * self.T) * stats.norm.cdf(self.D2(), 0, 1)\n",
    "            self.display()\n",
    "            print('買權價格: %5.3f' % C0)\n",
    "        else:\n",
    "            P0 = self.K * exp(-self.r * self.T) * stats.norm.cdf(-self.D2(), 0, 1) - self.S * stats.norm.cdf(-self.D1(), 0, 1)\n",
    "            self.display()\n",
    "            print('賣權價格: %5.3f' % P0)\n",
    "    def MCS(self, N = 100000, type = 1): #1是買權 0是賣權\n",
    "        import numpy as np \n",
    "        z = np.random.standard_normal(N)\n",
    "        ST = self.S * np.exp((self.r-0.5 * self.Sigma ** 2) * self.T + self.Sigma * np.sqrt(self.T) * z)\n",
    "        if type == 1:\n",
    "            CT = np.maximum(ST - self.K, 0)\n",
    "            C0 = np.sum(np.exp(-self.r * self.T)* CT) / N\n",
    "            #print(CT)\n",
    "            self.display()\n",
    "            print('買權價格: %5.3f' % C0)\n",
    "        else:\n",
    "            PT = np.maximum(self.K - ST, 0)\n",
    "            P0 = np.sum(np.exp(-self.r * self.T)* PT) / N\n",
    "            self.display()\n",
    "            print('賣權價格: %5.10f' % P0)\n",
    "            #print(CT)\n",
    "    def display(self):\n",
    "        print('標的價格：' + str(self.S) + '\\n執行價：' + str(self.K) + '\\nSigma:' + str(self.Sigma) + '\\n無風險利率：' + str(self.r) + '\\n期間：' + str(self.T) + '年到期')\n",
    "        "
   ]
  },
  {
   "cell_type": "markdown",
   "metadata": {},
   "source": [
    "# 輸入參數"
   ]
  },
  {
   "cell_type": "code",
<<<<<<< HEAD
   "execution_count": 2,
=======
   "execution_count": 52,
>>>>>>> origin/master
   "metadata": {
    "collapsed": false
   },
   "outputs": [],
   "source": [
    "S = 100\n",
<<<<<<< HEAD
    "K = 120\n",
    "Sigma = 0.3\n",
=======
    "K = 105\n",
    "Sigma = 0.2\n",
>>>>>>> origin/master
    "r = 0.05\n",
    "T = 1\n",
    "OP = Option_Pricing(S, K, Sigma, r, T)"
   ]
  },
  {
   "cell_type": "markdown",
   "metadata": {},
   "source": [
    "# 查看D1, D2"
   ]
  },
  {
   "cell_type": "code",
   "execution_count": 20,
   "metadata": {
    "collapsed": false
   },
   "outputs": [
    {
     "name": "stdout",
     "output_type": "stream",
     "text": [
      "D1: -0.5060575876034256\n",
      "D2: -1.834214204874145\n"
     ]
    }
   ],
   "source": [
    "print('D1: ' + str(OP.D1()) + '\\nD2: ' + str(OP.D2()))\n",
    "#OP.D1()\n",
    "#OP.D2()"
   ]
  },
  {
   "cell_type": "markdown",
   "metadata": {
    "collapsed": true
   },
   "source": [
    "# BSM測試"
   ]
  },
  {
   "cell_type": "code",
<<<<<<< HEAD
   "execution_count": 3,
=======
   "execution_count": 19,
>>>>>>> origin/master
   "metadata": {
    "collapsed": false
   },
   "outputs": [
    {
     "name": "stdout",
     "output_type": "stream",
     "text": [
<<<<<<< HEAD
      "標的價格：100\n",
      "執行價：120\n",
      "Sigma:0.3\n",
      "無風險利率：0.05\n",
      "期間：1年到期\n",
      "買權價格: 6.904\n",
      "\n",
      "標的價格：100\n",
      "執行價：120\n",
      "Sigma:0.3\n",
      "無風險利率：0.05\n",
      "期間：1年到期\n",
      "賣權價格: 21.052\n"
=======
      "標的價格：5\n",
      "執行價：39\n",
      "Sigma:0.42\n",
      "無風險利率：0.05\n",
      "期間：10年到期\n",
      "買權價格: 0.744\n",
      "\n",
      "標的價格：5\n",
      "執行價：39\n",
      "Sigma:0.42\n",
      "無風險利率：0.05\n",
      "期間：10年到期\n",
      "賣權價格: 19.399\n"
>>>>>>> origin/master
     ]
    }
   ],
   "source": [
    "OP.BSM(1) #1 = call , 0 = put\n",
    "print('')\n",
    "OP.BSM(0)"
   ]
  },
  {
   "cell_type": "markdown",
   "metadata": {},
   "source": [
    "# MCS測試"
   ]
  },
  {
   "cell_type": "code",
<<<<<<< HEAD
   "execution_count": 4,
=======
   "execution_count": 88,
>>>>>>> origin/master
   "metadata": {
    "collapsed": false
   },
   "outputs": [
    {
     "name": "stdout",
     "output_type": "stream",
     "text": [
<<<<<<< HEAD
      "標的價格：100\n",
      "執行價：120\n",
      "Sigma:0.3\n",
      "無風險利率：0.05\n",
      "期間：1年到期\n",
      "賣權價格: 21.1078623955\n"
=======
      "標的價格：5\n",
      "執行價：39\n",
      "Sigma:0.42\n",
      "無風險利率：0.05\n",
      "期間：10年到期\n",
      "賣權價格: 19.3888768634\n"
>>>>>>> origin/master
     ]
    }
   ],
   "source": [
    "OP.MCS(N =100000, type=0) #預設N = 10000 type=1買權 0賣權"
   ]
  },
  {
   "cell_type": "code",
   "execution_count": 85,
   "metadata": {
    "collapsed": true
   },
   "outputs": [],
   "source": [
    "S = 5\n",
    "K = 39\n",
    "Sigma = 0.42\n",
    "r = 0.05\n",
    "T = 10\n",
    "OP = Option_Pricing(S, K, Sigma, r, T)"
   ]
  },
  {
   "cell_type": "code",
   "execution_count": null,
   "metadata": {
    "collapsed": true
   },
   "outputs": [],
   "source": []
  }
 ],
 "metadata": {
  "anaconda-cloud": {},
  "kernelspec": {
   "display_name": "Python [Root]",
   "language": "python",
   "name": "Python [Root]"
  },
  "language_info": {
   "codemirror_mode": {
    "name": "ipython",
    "version": 3
   },
   "file_extension": ".py",
   "mimetype": "text/x-python",
   "name": "python",
   "nbconvert_exporter": "python",
   "pygments_lexer": "ipython3",
   "version": "3.5.2"
  }
 },
 "nbformat": 4,
 "nbformat_minor": 0
}
