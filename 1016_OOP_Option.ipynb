{
 "cells": [
  {
   "cell_type": "code",
   "execution_count": 65,
   "metadata": {
    "collapsed": false
   },
   "outputs": [],
   "source": [
    "class Option_Pricing:\n",
    "    def __init__(self, S, K, Sigma, r, T, N = 10000):\n",
    "        self.S = S \n",
    "        self.K = K \n",
    "        self.Sigma = Sigma\n",
    "        self.r = r\n",
    "        self.T = T\n",
    "        self.N = N\n",
    "    def ClosedForm(self):\n",
    "        from math import log, sqrt, exp\n",
    "        from scipy import stats\n",
    "        D1 = (log(self.S / self.K) + (self.r + 0.5 * (self.Sigma ** 2)) * self.T) / (self.Sigma * sqrt(self.T))\n",
    "        D2 = D1 - self.Sigma * sqrt(self.T)\n",
    "        C0 = self.S  * stats.norm.cdf(D1, 0, 1) - self.K * exp(-self.r * self.T) * stats.norm.cdf(D2, 0, 1)\n",
    "        print(C0)\n",
    "    def MSC(self, N=10000):\n",
    "        import numpy as np \n",
    "        z = np.random.standard_normal(self.N)\n",
    "        ST = self.S * np.exp((self.r-0.5 * self.Sigma ** 2) * self.T + self.Sigma * np.sqrt(self.T) * z)\n",
    "        CT = np.maximum(ST - self.K, 0)\n",
    "        C0 = np.sum(np.exp(-self.r * self.T)* CT) / self.N\n",
    "        print(C0)"
   ]
  },
  {
   "cell_type": "code",
   "execution_count": 66,
   "metadata": {
    "collapsed": false
   },
   "outputs": [],
   "source": [
    "OP = Option_Pricing(S = 100, K = 105, r = 0.05, T = 0.5, Sigma = 0.3)"
   ]
  },
  {
   "cell_type": "code",
   "execution_count": 67,
   "metadata": {
    "collapsed": false
   },
   "outputs": [
    {
     "name": "stdout",
     "output_type": "stream",
     "text": [
      "7.39841334916\n"
     ]
    }
   ],
   "source": [
    "OP.ClosedForm()"
   ]
  },
  {
   "cell_type": "code",
   "execution_count": 75,
   "metadata": {
    "collapsed": false
   },
   "outputs": [
    {
     "name": "stdout",
     "output_type": "stream",
     "text": [
      "7.31942779492\n"
     ]
    }
   ],
   "source": [
    "OP.MSC()"
   ]
  },
  {
   "cell_type": "code",
   "execution_count": null,
   "metadata": {
    "collapsed": true
   },
   "outputs": [],
   "source": []
  }
 ],
 "metadata": {
  "anaconda-cloud": {},
  "kernelspec": {
   "display_name": "Python [Root]",
   "language": "python",
   "name": "Python [Root]"
  },
  "language_info": {
   "codemirror_mode": {
    "name": "ipython",
    "version": 3
   },
   "file_extension": ".py",
   "mimetype": "text/x-python",
   "name": "python",
   "nbconvert_exporter": "python",
   "pygments_lexer": "ipython3",
   "version": "3.5.2"
  }
 },
 "nbformat": 4,
 "nbformat_minor": 0
}
