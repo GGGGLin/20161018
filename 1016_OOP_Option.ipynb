{
 "cells": [
  {
   "cell_type": "markdown",
   "metadata": {},
   "source": [
    "# 將OptionPricing改成OOP"
   ]
  },
  {
   "cell_type": "code",
   "execution_count": 104,
   "metadata": {
    "collapsed": false
   },
   "outputs": [],
   "source": [
    "class Option_Pricing:\n",
    "    def __init__(self, S, K, Sigma, r, T):\n",
    "        self.S = S \n",
    "        self.K = K \n",
    "        self.Sigma = Sigma\n",
    "        self.r = r\n",
    "        self.T = T\n",
    "    def D1(self):\n",
    "        from math import log, sqrt, exp\n",
    "        D1 = (log(self.S / self.K) + (self.r + 0.5 * (self.Sigma ** 2)) * self.T) / (self.Sigma * sqrt(self.T))\n",
    "        #print('D1: ' + str(D1))\n",
    "        return(D1)\n",
    "    def D2(self):\n",
    "        from math import log, sqrt, exp\n",
    "        from scipy import stats\n",
    "        D1 = (log(self.S / self.K) + (self.r + 0.5 * (self.Sigma ** 2)) * self.T) / (self.Sigma * sqrt(self.T))\n",
    "        D2 = D1 - self.Sigma * sqrt(self.T)\n",
    "        #print('D2: ' + str(D2))\n",
    "        return(D2)\n",
    "    def BSM(self, type = 1): #1是買權 0是賣權\n",
    "        from math import log, sqrt, exp\n",
    "        from scipy import stats\n",
    "        #D1 = (log(self.S / self.K) + (self.r + 0.5 * (self.Sigma ** 2)) * self.T) / (self.Sigma * sqrt(self.T))\n",
    "        #D2 = D1 - self.Sigma * sqrt(self.T)\n",
    "        if type == 1:\n",
    "            C0 = self.S  * stats.norm.cdf(self.D1(), 0, 1) - self.K * exp(-self.r * self.T) * stats.norm.cdf(self.D2(), 0, 1)\n",
    "            self.display()\n",
    "            print('買權價格: %5.3f' % C0)\n",
    "        else:\n",
    "            P0 = self.K * exp(-self.r * self.T) * stats.norm.cdf(-self.D2(), 0, 1) - self.S * -stats.norm.cdf(-self.D1(), 0, 1)\n",
    "            self.display()\n",
    "            print('賣權價格: %5.3f' % P0)\n",
    "    def MCS(self, N = 100000, type = 1): #1是買權 0是賣權\n",
    "        import numpy as np \n",
    "        z = np.random.standard_normal(N)\n",
    "        ST = self.S * np.exp((self.r-0.5 * self.Sigma ** 2) * self.T + self.Sigma * np.sqrt(self.T) * z)\n",
    "        #if type == 1:\n",
    "        CT = np.maximum(ST - self.K, 0)\n",
    "        C0 = np.sum(np.exp(-self.r * self.T)* CT) / N\n",
    "        self.display()\n",
    "        print('買權價格: %5.3f' % C0)\n",
    "        #else:\n",
    "        #    CT = np.maximum(self.K - ST, 0)\n",
    "        #    C0 = np.sum(np.exp(-self.r * self.T)* CT) / N\n",
    "        #    print('賣權價格: %5.10f' % C0)\n",
    "            #print(CT)\n",
    "    def display(self):\n",
    "        print('標的價格：' + str(self.S) + '\\n執行價：' + str(self.K) + '\\nSigma:' + str(self.Sigma) + '\\n無風險利率：' + str(self.r) + '\\n期間：' + str(self.T) + '年到期')\n",
    "        "
   ]
  },
  {
   "cell_type": "markdown",
   "metadata": {},
   "source": [
    "# 輸入參數"
   ]
  },
  {
   "cell_type": "code",
   "execution_count": 105,
   "metadata": {
    "collapsed": false
   },
   "outputs": [],
   "source": [
    "S = 100\n",
    "K = 105\n",
    "Sigma = 0.2\n",
    "r = 0.05\n",
    "T = 1\n",
    "OP = Option_Pricing(S, K, Sigma, r, T)"
   ]
  },
  {
   "cell_type": "markdown",
   "metadata": {},
   "source": [
    "# 查看D1, D2"
   ]
  },
  {
   "cell_type": "code",
   "execution_count": 108,
   "metadata": {
    "collapsed": false
   },
   "outputs": [
    {
     "name": "stdout",
     "output_type": "stream",
     "text": [
      "D1: 0.10604917915283975\n",
      "D2: -0.09395082084716026\n"
     ]
    }
   ],
   "source": [
    "print('D1: ' + str(OP.D1()) + '\\nD2: ' + str(OP.D2()))\n",
    "#OP.D1()\n",
    "#OP.D2()"
   ]
  },
  {
   "cell_type": "code",
   "execution_count": null,
   "metadata": {
    "collapsed": true
   },
   "outputs": [],
   "source": []
  },
  {
   "cell_type": "code",
   "execution_count": 109,
   "metadata": {
    "collapsed": false
   },
   "outputs": [
    {
     "name": "stdout",
     "output_type": "stream",
     "text": [
      "標的價格：100\n",
      "執行價：105\n",
      "Sigma:0.2\n",
      "無風險利率：0.05\n",
      "期間：1年到期\n",
      "買權價格: 8.021\n",
      "\n",
      "標的價格：100\n",
      "執行價：105\n",
      "Sigma:0.2\n",
      "無風險利率：0.05\n",
      "期間：1年到期\n",
      "賣權價格: 99.455\n"
     ]
    }
   ],
   "source": [
    "OP.BSM(1) #1 = call , 0 = put\n",
    "print('')\n",
    "OP.BSM(0)"
   ]
  },
  {
   "cell_type": "code",
   "execution_count": 110,
   "metadata": {
    "collapsed": false
   },
   "outputs": [
    {
     "name": "stdout",
     "output_type": "stream",
     "text": [
      "標的價格：100\n",
      "執行價：105\n",
      "Sigma:0.2\n",
      "無風險利率：0.05\n",
      "期間：1年到期\n",
      "買權價格: 8.063\n"
     ]
    }
   ],
   "source": [
    "OP.MCS() #預設N = 10000"
   ]
  },
  {
   "cell_type": "code",
   "execution_count": 89,
   "metadata": {
    "collapsed": true
   },
   "outputs": [],
   "source": []
  }
 ],
 "metadata": {
  "anaconda-cloud": {},
  "kernelspec": {
   "display_name": "Python [Root]",
   "language": "python",
   "name": "Python [Root]"
  },
  "language_info": {
   "codemirror_mode": {
    "name": "ipython",
    "version": 3
   },
   "file_extension": ".py",
   "mimetype": "text/x-python",
   "name": "python",
   "nbconvert_exporter": "python",
   "pygments_lexer": "ipython3",
   "version": "3.5.2"
  }
 },
 "nbformat": 4,
 "nbformat_minor": 0
}
